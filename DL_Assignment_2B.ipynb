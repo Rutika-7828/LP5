{
 "cells": [
  {
   "cell_type": "code",
   "execution_count": 1,
   "metadata": {
    "colab": {
     "base_uri": "https://localhost:8080/"
    },
    "executionInfo": {
     "elapsed": 14589,
     "status": "ok",
     "timestamp": 1685003568187,
     "user": {
      "displayName": "S227 Bankar Abhishek",
      "userId": "04360172329345035178"
     },
     "user_tz": -330
    },
    "id": "XlTXRMoKBbtF",
    "outputId": "217617fd-693b-40b6-e5b6-92f8d006d724"
   },
   "outputs": [
    {
     "data": {
      "text/plain": [
       "(25000,)"
      ]
     },
     "execution_count": 1,
     "metadata": {},
     "output_type": "execute_result"
    }
   ],
   "source": [
    "import numpy as np\n",
    "import pandas as pd\n",
    "from sklearn.model_selection import train_test_split\n",
    "from keras.datasets import imdb\n",
    "(X_train, y_train), (X_test, y_test) = imdb.load_data(num_words=10000)\n",
    "data = np.concatenate((X_train, X_test), axis=0) \n",
    "label = np.concatenate((y_train, y_test), axis=0)\n",
    "X_train.shape"
   ]
  },
  {
   "cell_type": "code",
   "execution_count": 2,
   "metadata": {
    "colab": {
     "base_uri": "https://localhost:8080/"
    },
    "executionInfo": {
     "elapsed": 1808,
     "status": "ok",
     "timestamp": 1685003604011,
     "user": {
      "displayName": "S227 Bankar Abhishek",
      "userId": "04360172329345035178"
     },
     "user_tz": -330
    },
    "id": "-bo5jwaBCYfZ",
    "outputId": "b8dfb4fc-1b42-42fc-c190-12cb5fc99ee6",
    "scrolled": true
   },
   "outputs": [
    {
     "name": "stdout",
     "output_type": "stream",
     "text": [
      "Review is  [1, 14, 22, 16, 43, 530, 973, 1622, 1385, 65, 458, 4468, 66, 3941, 4, 173, 36, 256, 5, 25, 100, 43, 838, 112, 50, 670, 2, 9, 35, 480, 284, 5, 150, 4, 172, 112, 167, 2, 336, 385, 39, 4, 172, 4536, 1111, 17, 546, 38, 13, 447, 4, 192, 50, 16, 6, 147, 2025, 19, 14, 22, 4, 1920, 4613, 469, 4, 22, 71, 87, 12, 16, 43, 530, 38, 76, 15, 13, 1247, 4, 22, 17, 515, 17, 12, 16, 626, 18, 2, 5, 62, 386, 12, 8, 316, 8, 106, 5, 4, 2223, 5244, 16, 480, 66, 3785, 33, 4, 130, 12, 16, 38, 619, 5, 25, 124, 51, 36, 135, 48, 25, 1415, 33, 6, 22, 12, 215, 28, 77, 52, 5, 14, 407, 16, 82, 2, 8, 4, 107, 117, 5952, 15, 256, 4, 2, 7, 3766, 5, 723, 36, 71, 43, 530, 476, 26, 400, 317, 46, 7, 4, 2, 1029, 13, 104, 88, 4, 381, 15, 297, 98, 32, 2071, 56, 26, 141, 6, 194, 7486, 18, 4, 226, 22, 21, 134, 476, 26, 480, 5, 144, 30, 5535, 18, 51, 36, 28, 224, 92, 25, 104, 4, 226, 65, 16, 38, 1334, 88, 12, 16, 283, 5, 16, 4472, 113, 103, 32, 15, 16, 5345, 19, 178, 32]\n",
      "Review is  1\n"
     ]
    }
   ],
   "source": [
    "print(\"Review is \",X_train[0]) # series of no converted word to vocabulory associated with index\n",
    "print(\"Review is \",y_train[0])"
   ]
  },
  {
   "cell_type": "code",
   "execution_count": 3,
   "metadata": {
    "executionInfo": {
     "elapsed": 2,
     "status": "ok",
     "timestamp": 1685003706471,
     "user": {
      "displayName": "S227 Bankar Abhishek",
      "userId": "04360172329345035178"
     },
     "user_tz": -330
    },
    "id": "xRxjKYojCzqj"
   },
   "outputs": [],
   "source": [
    "def vectorize(sequences, dimension = 10000): \n",
    "  results = np.zeros((len(sequences), dimension))\n",
    "  for i, sequence in enumerate(sequences):\n",
    "    results[i, sequence] = 1\n",
    "  return results"
   ]
  },
  {
   "cell_type": "code",
   "execution_count": 4,
   "metadata": {
    "colab": {
     "base_uri": "https://localhost:8080/",
     "height": 200
    },
    "executionInfo": {
     "elapsed": 5365,
     "status": "error",
     "timestamp": 1685003861607,
     "user": {
      "displayName": "S227 Bankar Abhishek",
      "userId": "04360172329345035178"
     },
     "user_tz": -330
    },
    "id": "pYU8alnIDhXc",
    "outputId": "52fa6270-8faf-468d-b83f-05744c12d89d"
   },
   "outputs": [],
   "source": [
    "data = vectorize(data)\n",
    "label = np.array(label).astype(\"float32\")"
   ]
  },
  {
   "cell_type": "code",
   "execution_count": 5,
   "metadata": {
    "colab": {
     "base_uri": "https://localhost:8080/"
    },
    "executionInfo": {
     "elapsed": 35013,
     "status": "ok",
     "timestamp": 1685004022875,
     "user": {
      "displayName": "S227 Bankar Abhishek",
      "userId": "04360172329345035178"
     },
     "user_tz": -330
    },
    "id": "J4HsaDTHDmLQ",
    "outputId": "060bbf4b-2a19-4459-e7d9-ef6d18e1c4b3",
    "scrolled": true
   },
   "outputs": [
    {
     "name": "stdout",
     "output_type": "stream",
     "text": [
      "Model: \"sequential\"\n",
      "_________________________________________________________________\n",
      " Layer (type)                Output Shape              Param #   \n",
      "=================================================================\n",
      " dense (Dense)               (None, 50)                500050    \n",
      "                                                                 \n",
      " dense_1 (Dense)             (None, 50)                2550      \n",
      "                                                                 \n",
      " dense_2 (Dense)             (None, 50)                2550      \n",
      "                                                                 \n",
      " dense_3 (Dense)             (None, 1)                 51        \n",
      "                                                                 \n",
      "=================================================================\n",
      "Total params: 505,201\n",
      "Trainable params: 505,201\n",
      "Non-trainable params: 0\n",
      "_________________________________________________________________\n",
      "Epoch 1/2\n",
      "80/80 [==============================] - 12s 117ms/step - loss: 0.3616 - accuracy: 0.8525 - val_loss: 0.2692 - val_accuracy: 0.8947\n",
      "Epoch 2/2\n",
      "80/80 [==============================] - 2s 21ms/step - loss: 0.2028 - accuracy: 0.9233 - val_loss: 0.2764 - val_accuracy: 0.8927\n",
      "0.8937000036239624\n",
      "20/20 [==============================] - 0s 9ms/step - loss: 0.2764 - accuracy: 0.8927\n",
      "Test loss: 0.2764459252357483\n",
      "Test accuracy: 0.8927000164985657\n"
     ]
    }
   ],
   "source": [
    "from sklearn.model_selection import train_test_split\n",
    "X_train, X_test, y_train, y_test = train_test_split(data,label, test_size=0.20, random_state=1)\n",
    "X_train.shape\n",
    "\n",
    "X_test.shape\n",
    "\n",
    "# Let's create sequential model\n",
    "from keras.utils import to_categorical\n",
    "from keras import models\n",
    "from keras.layers import Dense, Dropout, Activation\n",
    "model = models.Sequential()\n",
    "\n",
    "# The input-layer takes 10,000 as input and outputs it with a shape of 50.\n",
    "model.add(Dense(50, activation = \"relu\", input_shape=(10000, )))\n",
    "model.add(Dense(50, activation = \"relu\"))\n",
    "model.add(Dense(50, activation = \"relu\"))\n",
    "\n",
    "# Output- Layer\n",
    "model.add(Dense(1, activation = \"sigmoid\"))\n",
    "model.summary()\n",
    "model.compile(optimizer = \"adam\",loss = \"binary_crossentropy\",metrics = [\"accuracy\"])\n",
    "\n",
    "results = model.fit(X_train, y_train,epochs= 2,batch_size = 500,validation_data = (X_test, y_test))\n",
    "\n",
    "# Let's check mean accuracy of our model\n",
    "print(np.mean(results.history[\"val_accuracy\"]))\n",
    "\n",
    "# Evaluate the model\n",
    "score = model.evaluate(X_test, y_test, batch_size=500)\n",
    "print('Test loss:', score[0])\n",
    "print('Test accuracy:', score[1])\n"
   ]
  },
  {
   "cell_type": "code",
   "execution_count": null,
   "metadata": {},
   "outputs": [],
   "source": []
  }
 ],
 "metadata": {
  "colab": {
   "authorship_tag": "ABX9TyMQUKH/dGElyXuMVgDXFH3i",
   "provenance": []
  },
  "kernelspec": {
   "display_name": "Python 3 (ipykernel)",
   "language": "python",
   "name": "python3"
  },
  "language_info": {
   "codemirror_mode": {
    "name": "ipython",
    "version": 3
   },
   "file_extension": ".py",
   "mimetype": "text/x-python",
   "name": "python",
   "nbconvert_exporter": "python",
   "pygments_lexer": "ipython3",
   "version": "3.10.4"
  }
 },
 "nbformat": 4,
 "nbformat_minor": 1
}

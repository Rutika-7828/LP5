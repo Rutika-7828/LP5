{
 "cells": [
  {
   "cell_type": "code",
   "execution_count": 1,
   "id": "41dc6d54",
   "metadata": {},
   "outputs": [],
   "source": [
    "import numpy as np\n",
    "import pandas as pd\n",
    "import tensorflow as tf\n",
    "from sklearn.preprocessing import MinMaxScaler\n"
   ]
  },
  {
   "cell_type": "code",
   "execution_count": 2,
   "id": "ef0e9621",
   "metadata": {},
   "outputs": [],
   "source": [
    "# Step 1: Data Preparation\n",
    "# Assuming you have the Google stock prices dataset in a CSV file\n",
    "data = pd.read_csv('Google_Stock_Price_Test.csv')\n",
    "prices = data['Close'].values.reshape(-1, 1)"
   ]
  },
  {
   "cell_type": "code",
   "execution_count": 3,
   "id": "7510c40a",
   "metadata": {},
   "outputs": [],
   "source": [
    "# Normalize the data\n",
    "scaler = MinMaxScaler(feature_range=(0, 1))\n",
    "scaled_prices = scaler.fit_transform(prices)"
   ]
  },
  {
   "cell_type": "code",
   "execution_count": 4,
   "id": "14408728",
   "metadata": {},
   "outputs": [],
   "source": [
    "\n",
    "# Split the data into training and testing sets\n",
    "train_size = int(len(scaled_prices) * 0.8)\n",
    "train_data = scaled_prices[:train_size]\n",
    "test_data = scaled_prices[train_size:]"
   ]
  },
  {
   "cell_type": "code",
   "execution_count": 22,
   "id": "f310bc5c",
   "metadata": {},
   "outputs": [],
   "source": [
    "# Step 2: Model Architecture\n",
    "model = tf.keras.Sequential([\n",
    "    tf.keras.layers.LSTM(64, input_shape=(None, 1), return_sequences=True),\n",
    "    tf.keras.layers.LSTM(64),\n",
    "    tf.keras.layers.Dense(1)\n",
    "])"
   ]
  },
  {
   "cell_type": "code",
   "execution_count": 23,
   "id": "90def925",
   "metadata": {},
   "outputs": [
    {
     "name": "stdout",
     "output_type": "stream",
     "text": [
      "Epoch 1/50\n",
      "1/1 [==============================] - 12s 12s/step - loss: 0.2389\n",
      "Epoch 2/50\n",
      "1/1 [==============================] - 0s 18ms/step - loss: 0.2338\n",
      "Epoch 3/50\n",
      "1/1 [==============================] - 0s 23ms/step - loss: 0.2287\n",
      "Epoch 4/50\n",
      "1/1 [==============================] - 0s 12ms/step - loss: 0.2236\n",
      "Epoch 5/50\n",
      "1/1 [==============================] - 0s 19ms/step - loss: 0.2185\n",
      "Epoch 6/50\n",
      "1/1 [==============================] - 0s 21ms/step - loss: 0.2134\n",
      "Epoch 7/50\n",
      "1/1 [==============================] - 0s 15ms/step - loss: 0.2083\n",
      "Epoch 8/50\n",
      "1/1 [==============================] - 0s 30ms/step - loss: 0.2032\n",
      "Epoch 9/50\n",
      "1/1 [==============================] - 0s 16ms/step - loss: 0.1981\n",
      "Epoch 10/50\n",
      "1/1 [==============================] - 0s 16ms/step - loss: 0.1929\n",
      "Epoch 11/50\n",
      "1/1 [==============================] - 0s 34ms/step - loss: 0.1877\n",
      "Epoch 12/50\n",
      "1/1 [==============================] - 0s 20ms/step - loss: 0.1825\n",
      "Epoch 13/50\n",
      "1/1 [==============================] - 0s 20ms/step - loss: 0.1771\n",
      "Epoch 14/50\n",
      "1/1 [==============================] - 0s 21ms/step - loss: 0.1718\n",
      "Epoch 15/50\n",
      "1/1 [==============================] - 0s 18ms/step - loss: 0.1663\n",
      "Epoch 16/50\n",
      "1/1 [==============================] - 0s 31ms/step - loss: 0.1609\n",
      "Epoch 17/50\n",
      "1/1 [==============================] - 0s 14ms/step - loss: 0.1553\n",
      "Epoch 18/50\n",
      "1/1 [==============================] - 0s 34ms/step - loss: 0.1497\n",
      "Epoch 19/50\n",
      "1/1 [==============================] - 0s 11ms/step - loss: 0.1441\n",
      "Epoch 20/50\n",
      "1/1 [==============================] - 0s 22ms/step - loss: 0.1384\n",
      "Epoch 21/50\n",
      "1/1 [==============================] - 0s 26ms/step - loss: 0.1327\n",
      "Epoch 22/50\n",
      "1/1 [==============================] - 0s 17ms/step - loss: 0.1269\n",
      "Epoch 23/50\n",
      "1/1 [==============================] - 0s 34ms/step - loss: 0.1211\n",
      "Epoch 24/50\n",
      "1/1 [==============================] - 0s 13ms/step - loss: 0.1153\n",
      "Epoch 25/50\n",
      "1/1 [==============================] - 0s 23ms/step - loss: 0.1095\n",
      "Epoch 26/50\n",
      "1/1 [==============================] - 0s 16ms/step - loss: 0.1037\n",
      "Epoch 27/50\n",
      "1/1 [==============================] - 0s 23ms/step - loss: 0.0980\n",
      "Epoch 28/50\n",
      "1/1 [==============================] - 0s 12ms/step - loss: 0.0923\n",
      "Epoch 29/50\n",
      "1/1 [==============================] - 0s 23ms/step - loss: 0.0867\n",
      "Epoch 30/50\n",
      "1/1 [==============================] - 0s 17ms/step - loss: 0.0811\n",
      "Epoch 31/50\n",
      "1/1 [==============================] - 0s 36ms/step - loss: 0.0757\n",
      "Epoch 32/50\n",
      "1/1 [==============================] - 0s 16ms/step - loss: 0.0704\n",
      "Epoch 33/50\n",
      "1/1 [==============================] - 0s 29ms/step - loss: 0.0653\n",
      "Epoch 34/50\n",
      "1/1 [==============================] - 0s 17ms/step - loss: 0.0604\n",
      "Epoch 35/50\n",
      "1/1 [==============================] - 0s 29ms/step - loss: 0.0557\n",
      "Epoch 36/50\n",
      "1/1 [==============================] - 0s 17ms/step - loss: 0.0512\n",
      "Epoch 37/50\n",
      "1/1 [==============================] - 0s 31ms/step - loss: 0.0470\n",
      "Epoch 38/50\n",
      "1/1 [==============================] - 0s 14ms/step - loss: 0.0432\n",
      "Epoch 39/50\n",
      "1/1 [==============================] - 0s 33ms/step - loss: 0.0397\n",
      "Epoch 40/50\n",
      "1/1 [==============================] - 0s 12ms/step - loss: 0.0365\n",
      "Epoch 41/50\n",
      "1/1 [==============================] - 0s 20ms/step - loss: 0.0338\n",
      "Epoch 42/50\n",
      "1/1 [==============================] - 0s 18ms/step - loss: 0.0314\n",
      "Epoch 43/50\n",
      "1/1 [==============================] - 0s 17ms/step - loss: 0.0295\n",
      "Epoch 44/50\n",
      "1/1 [==============================] - 0s 13ms/step - loss: 0.0280\n",
      "Epoch 45/50\n",
      "1/1 [==============================] - 0s 25ms/step - loss: 0.0268\n",
      "Epoch 46/50\n",
      "1/1 [==============================] - 0s 28ms/step - loss: 0.0261\n",
      "Epoch 47/50\n",
      "1/1 [==============================] - 0s 21ms/step - loss: 0.0257\n",
      "Epoch 48/50\n",
      "1/1 [==============================] - 0s 25ms/step - loss: 0.0255\n",
      "Epoch 49/50\n",
      "1/1 [==============================] - 0s 18ms/step - loss: 0.0257\n",
      "Epoch 50/50\n",
      "1/1 [==============================] - 0s 15ms/step - loss: 0.0259\n"
     ]
    },
    {
     "data": {
      "text/plain": [
       "<keras.callbacks.History at 0x2407fac6040>"
      ]
     },
     "execution_count": 23,
     "metadata": {},
     "output_type": "execute_result"
    }
   ],
   "source": [
    "# Step 3: Model Training\n",
    "model.compile(optimizer='adam', loss='mean_squared_error')\n",
    "model.fit(train_data[:-1], train_data[1:], epochs=50, batch_size=32)"
   ]
  },
  {
   "cell_type": "code",
   "execution_count": 24,
   "id": "3e94a0c1",
   "metadata": {},
   "outputs": [
    {
     "name": "stdout",
     "output_type": "stream",
     "text": [
      "1/1 [==============================] - 3s 3s/step - loss: 0.0263\n",
      "1/1 [==============================] - 0s 83ms/step - loss: 0.0615\n",
      "Training loss: 0.026336567476391792\n",
      "Testing loss: 0.06153269484639168\n"
     ]
    }
   ],
   "source": [
    "# Step 4: Model Evaluation\n",
    "train_loss = model.evaluate(train_data[:-1], train_data[1:])\n",
    "test_loss = model.evaluate(test_data[:-1], test_data[1:])\n",
    "print(f\"Training loss: {train_loss}\")\n",
    "print(f\"Testing loss: {test_loss}\")"
   ]
  },
  {
   "cell_type": "code",
   "execution_count": 37,
   "id": "49bcb835",
   "metadata": {},
   "outputs": [
    {
     "name": "stdout",
     "output_type": "stream",
     "text": [
      "1/1 [==============================] - 0s 63ms/step\n"
     ]
    }
   ],
   "source": [
    "# Step 5: Prediction\n",
    "predictions = model.predict(test_data[:-1].reshape(-1, 1, 1))\n",
    "predicted_prices = scaler.inverse_transform(predictions).flatten()"
   ]
  },
  {
   "cell_type": "code",
   "execution_count": 38,
   "id": "2a661724",
   "metadata": {},
   "outputs": [
    {
     "name": "stdout",
     "output_type": "stream",
     "text": [
      "Predicted price for the next time step: 809.4248657226562\n"
     ]
    }
   ],
   "source": [
    "next_price = predicted_prices[-1]\n",
    "print(f\"Predicted price for the next time step: {next_price}\")"
   ]
  },
  {
   "cell_type": "code",
   "execution_count": 40,
   "id": "0b2cecec",
   "metadata": {},
   "outputs": [
    {
     "data": {
      "image/png": "[encoded data removed]",
      "text/plain": [
       "<Figure size 864x432 with 1 Axes>"
      ]
     },
     "metadata": {
      "needs_background": "light"
     },
     "output_type": "display_data"
    }
   ],
   "source": [
    "# Step 6: Visualization\n",
    "actual_prices = scaler.inverse_transform(test_data[1:]).flatten()\n",
    "\n",
    "plt.figure(figsize=(12, 6))\n",
    "plt.plot(actual_prices, label='Actual Prices')\n",
    "plt.plot(range(len(actual_prices)), predicted_prices, label='Predicted Prices')\n",
    "plt.title('Google Stock Prices - Actual vs Predicted')\n",
    "plt.xlabel('Time Step')\n",
    "plt.ylabel('Price')\n",
    "plt.legend()\n",
    "plt.show()\n",
    "\n"
   ]
  },
  {
   "cell_type": "code",
   "execution_count": 42,
   "id": "dd60bc70",
   "metadata": {},
   "outputs": [
    {
     "name": "stdout",
     "output_type": "stream",
     "text": [
      "Accuracy: 98.74%\n"
     ]
    }
   ],
   "source": [
    "# Step 6: Accuracy Calculation\n",
    "actual_prices = scaler.inverse_transform(test_data[1:]).flatten()\n",
    "\n",
    "# Calculate Mean Absolute Percentage Error (MAPE)\n",
    "mape = np.mean(np.abs((actual_prices - predicted_prices) / actual_prices)) * 100\n",
    "accuracy = 100 - mape\n",
    "print(f\"Accuracy: {accuracy:.2f}%\")"
   ]
  },
  {
   "cell_type": "code",
   "execution_count": null,
   "id": "395fd9d9",
   "metadata": {},
   "outputs": [],
   "source": []
  }
 ],
 "metadata": {
  "kernelspec": {
   "display_name": "Python 3 (ipykernel)",
   "language": "python",
   "name": "python3"
  },
  "language_info": {
   "codemirror_mode": {
    "name": "ipython",
    "version": 3
   },
   "file_extension": ".py",
   "mimetype": "text/x-python",
   "name": "python",
   "nbconvert_exporter": "python",
   "pygments_lexer": "ipython3",
   "version": "3.9.7"
  }
 },
 "nbformat": 4,
 "nbformat_minor": 5
}

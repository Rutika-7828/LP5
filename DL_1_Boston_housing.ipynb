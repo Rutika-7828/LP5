{
 "cells": [
  {
   "cell_type": "code",
   "execution_count": 1,
   "id": "95cfa2de",
   "metadata": {},
   "outputs": [],
   "source": [
    "import tensorflow as tf\n",
    "from tensorflow.keras.datasets import boston_housing\n",
    "from sklearn import preprocessing\n"
   ]
  },
  {
   "cell_type": "code",
   "execution_count": 2,
   "id": "760a56d4",
   "metadata": {},
   "outputs": [
    {
     "name": "stdout",
     "output_type": "stream",
     "text": [
      "Downloading data from https://storage.googleapis.com/tensorflow/tf-keras-datasets/boston_housing.npz\n",
      "57026/57026 [==============================] - 0s 0us/step\n"
     ]
    }
   ],
   "source": [
    "(train_x, train_y),(test_x, test_y) = boston_housing.load_data()"
   ]
  },
  {
   "cell_type": "code",
   "execution_count": 3,
   "id": "27d38297",
   "metadata": {},
   "outputs": [
    {
     "name": "stdout",
     "output_type": "stream",
     "text": [
      "train shape :  (404, 13)\n",
      "test shape :  (102, 13)\n",
      "Actual train output :  (404,)\n",
      "Actual test outpput :  (102,)\n"
     ]
    }
   ],
   "source": [
    "print(\"train shape : \", train_x.shape)\n",
    "print(\"test shape : \", test_x.shape)\n",
    "print(\"Actual train output : \", train_y.shape)\n",
    "print(\"Actual test outpput : \", test_y.shape)\n"
   ]
  },
  {
   "cell_type": "code",
   "execution_count": 4,
   "id": "e4ff355f",
   "metadata": {},
   "outputs": [
    {
     "data": {
      "text/plain": [
       "array([  1.23247,   0.     ,   8.14   ,   0.     ,   0.538  ,   6.142  ,\n",
       "        91.7    ,   3.9769 ,   4.     , 307.     ,  21.     , 396.9    ,\n",
       "        18.72   ])"
      ]
     },
     "execution_count": 4,
     "metadata": {},
     "output_type": "execute_result"
    }
   ],
   "source": [
    "train_x[0]"
   ]
  },
  {
   "cell_type": "code",
   "execution_count": 5,
   "id": "b77be709",
   "metadata": {},
   "outputs": [
    {
     "data": {
      "text/plain": [
       "15.2"
      ]
     },
     "execution_count": 5,
     "metadata": {},
     "output_type": "execute_result"
    }
   ],
   "source": [
    "train_y[0]"
   ]
  },
  {
   "cell_type": "code",
   "execution_count": 7,
   "id": "0ec5d703",
   "metadata": {},
   "outputs": [],
   "source": [
    "train_x=preprocessing.normalize(train_x)\n",
    "test_x=preprocessing.normalize(test_x)"
   ]
  },
  {
   "cell_type": "code",
   "execution_count": 8,
   "id": "c522432a",
   "metadata": {},
   "outputs": [
    {
     "data": {
      "text/plain": [
       "array([0.0024119 , 0.        , 0.01592969, 0.        , 0.00105285,\n",
       "       0.01201967, 0.17945359, 0.00778265, 0.00782786, 0.6007879 ,\n",
       "       0.04109624, 0.77671895, 0.03663436])"
      ]
     },
     "execution_count": 8,
     "metadata": {},
     "output_type": "execute_result"
    }
   ],
   "source": [
    "train_x[0]"
   ]
  },
  {
   "cell_type": "code",
   "execution_count": 9,
   "id": "1152d52f",
   "metadata": {},
   "outputs": [
    {
     "data": {
      "text/plain": [
       "15.2"
      ]
     },
     "execution_count": 9,
     "metadata": {},
     "output_type": "execute_result"
    }
   ],
   "source": [
    "train_y[0]"
   ]
  },
  {
   "cell_type": "code",
   "execution_count": 15,
   "id": "1450298e",
   "metadata": {},
   "outputs": [],
   "source": [
    "from tensorflow.keras.models import Sequential\n",
    "from tensorflow.keras.layers import *\n",
    "\n",
    "def H_P_model():\n",
    "    model = Sequential()\n",
    "    model.add(Dense(128, activation = 'relu', input_shape = (train_x[0].shape)))\n",
    "    model.add(Dense(64, activation = 'relu'))\n",
    "    model.add(Dense(32, activation = 'relu'))\n",
    "    model.add(Dense(1))\n",
    "    model.compile(optimizer = 'rmsprop', loss = 'mse', metrics = ['mae'])\n",
    "    return model"
   ]
  },
  {
   "cell_type": "code",
   "execution_count": 16,
   "id": "9d24b41b",
   "metadata": {},
   "outputs": [],
   "source": [
    "import numpy as np\n",
    "k =4\n",
    "num_val_samples = len(train_x)\n",
    "num_epochs = 100\n",
    "all_scores = []\n"
   ]
  },
  {
   "cell_type": "code",
   "execution_count": 28,
   "id": "5ad49885",
   "metadata": {},
   "outputs": [
    {
     "name": "stdout",
     "output_type": "stream",
     "text": [
      "Epoch 1/100\n",
      "404/404 [==============================] - 1s 2ms/step - loss: 121.5071 - mae: 7.7081 - val_loss: 74.8664 - val_mae: 6.1237\n",
      "Epoch 2/100\n",
      "404/404 [==============================] - 1s 2ms/step - loss: 64.7717 - mae: 5.6118 - val_loss: 59.6368 - val_mae: 5.5855\n",
      "Epoch 3/100\n",
      "404/404 [==============================] - 1s 1ms/step - loss: 62.8999 - mae: 5.4627 - val_loss: 56.6696 - val_mae: 5.4813\n",
      "Epoch 4/100\n",
      "404/404 [==============================] - 1s 1ms/step - loss: 60.2769 - mae: 5.2780 - val_loss: 53.8298 - val_mae: 5.3790\n",
      "Epoch 5/100\n",
      "404/404 [==============================] - 1s 1ms/step - loss: 57.5506 - mae: 5.1656 - val_loss: 53.6250 - val_mae: 5.2882\n",
      "Epoch 6/100\n",
      "404/404 [==============================] - 1s 1ms/step - loss: 55.2119 - mae: 5.0612 - val_loss: 58.1687 - val_mae: 5.3623\n",
      "Epoch 7/100\n",
      "404/404 [==============================] - 1s 2ms/step - loss: 52.8381 - mae: 4.9732 - val_loss: 54.3866 - val_mae: 5.6656\n",
      "Epoch 8/100\n",
      "404/404 [==============================] - 1s 2ms/step - loss: 52.6968 - mae: 4.9274 - val_loss: 52.2656 - val_mae: 5.5776\n",
      "Epoch 9/100\n",
      "404/404 [==============================] - 1s 2ms/step - loss: 49.6200 - mae: 4.7237 - val_loss: 45.4117 - val_mae: 4.8717\n",
      "Epoch 10/100\n",
      "404/404 [==============================] - 1s 2ms/step - loss: 48.8906 - mae: 4.6909 - val_loss: 44.0265 - val_mae: 4.7693\n",
      "Epoch 11/100\n",
      "404/404 [==============================] - 1s 1ms/step - loss: 46.5154 - mae: 4.6704 - val_loss: 43.6198 - val_mae: 4.6003\n",
      "Epoch 12/100\n",
      "404/404 [==============================] - 1s 2ms/step - loss: 43.8403 - mae: 4.5206 - val_loss: 47.6224 - val_mae: 4.8093\n",
      "Epoch 13/100\n",
      "404/404 [==============================] - 1s 2ms/step - loss: 42.7972 - mae: 4.5480 - val_loss: 40.6689 - val_mae: 4.4149\n",
      "Epoch 14/100\n",
      "404/404 [==============================] - 1s 2ms/step - loss: 43.1263 - mae: 4.5121 - val_loss: 39.0692 - val_mae: 4.2985\n",
      "Epoch 15/100\n",
      "404/404 [==============================] - 1s 1ms/step - loss: 40.8475 - mae: 4.3792 - val_loss: 43.5919 - val_mae: 4.5220\n",
      "Epoch 16/100\n",
      "404/404 [==============================] - 1s 1ms/step - loss: 38.9654 - mae: 4.1949 - val_loss: 40.4219 - val_mae: 5.0795\n",
      "Epoch 17/100\n",
      "404/404 [==============================] - 1s 2ms/step - loss: 37.1583 - mae: 4.2044 - val_loss: 34.7766 - val_mae: 4.0614\n",
      "Epoch 18/100\n",
      "404/404 [==============================] - 1s 2ms/step - loss: 36.8115 - mae: 4.2014 - val_loss: 51.5227 - val_mae: 6.2535\n",
      "Epoch 19/100\n",
      "404/404 [==============================] - 1s 2ms/step - loss: 35.7409 - mae: 4.2046 - val_loss: 38.3110 - val_mae: 4.2728\n",
      "Epoch 20/100\n",
      "404/404 [==============================] - 1s 2ms/step - loss: 34.9122 - mae: 4.1394 - val_loss: 32.9410 - val_mae: 3.9797\n",
      "Epoch 21/100\n",
      "404/404 [==============================] - 1s 2ms/step - loss: 33.1954 - mae: 4.1130 - val_loss: 32.6931 - val_mae: 3.9776\n",
      "Epoch 22/100\n",
      "404/404 [==============================] - 1s 2ms/step - loss: 32.3805 - mae: 4.0172 - val_loss: 29.6171 - val_mae: 3.8846\n",
      "Epoch 23/100\n",
      "404/404 [==============================] - 1s 1ms/step - loss: 32.0369 - mae: 3.9102 - val_loss: 30.1793 - val_mae: 4.0684\n",
      "Epoch 24/100\n",
      "404/404 [==============================] - 1s 2ms/step - loss: 31.3152 - mae: 3.9957 - val_loss: 29.4377 - val_mae: 4.0730\n",
      "Epoch 25/100\n",
      "404/404 [==============================] - 1s 2ms/step - loss: 30.8462 - mae: 3.8818 - val_loss: 28.9300 - val_mae: 3.9601\n",
      "Epoch 26/100\n",
      "404/404 [==============================] - 1s 2ms/step - loss: 30.3602 - mae: 3.8957 - val_loss: 28.2469 - val_mae: 3.9968\n",
      "Epoch 27/100\n",
      "404/404 [==============================] - 1s 1ms/step - loss: 29.6552 - mae: 3.8975 - val_loss: 30.8966 - val_mae: 3.8167\n",
      "Epoch 28/100\n",
      "404/404 [==============================] - 1s 1ms/step - loss: 27.5292 - mae: 3.7250 - val_loss: 27.4375 - val_mae: 3.6625\n",
      "Epoch 29/100\n",
      "404/404 [==============================] - 1s 1ms/step - loss: 27.7416 - mae: 3.7415 - val_loss: 25.8507 - val_mae: 3.8096\n",
      "Epoch 30/100\n",
      "404/404 [==============================] - 1s 1ms/step - loss: 26.5086 - mae: 3.6662 - val_loss: 28.5855 - val_mae: 3.8087\n",
      "Epoch 31/100\n",
      "404/404 [==============================] - 1s 1ms/step - loss: 27.1530 - mae: 3.6351 - val_loss: 31.9292 - val_mae: 3.8888\n",
      "Epoch 32/100\n",
      "404/404 [==============================] - 1s 2ms/step - loss: 25.1782 - mae: 3.6030 - val_loss: 24.6210 - val_mae: 3.5636\n",
      "Epoch 33/100\n",
      "404/404 [==============================] - 1s 2ms/step - loss: 24.2827 - mae: 3.5068 - val_loss: 32.3825 - val_mae: 3.9741\n",
      "Epoch 34/100\n",
      "404/404 [==============================] - 1s 2ms/step - loss: 23.9064 - mae: 3.4958 - val_loss: 25.0327 - val_mae: 3.5996\n",
      "Epoch 35/100\n",
      "404/404 [==============================] - 1s 1ms/step - loss: 22.9142 - mae: 3.4854 - val_loss: 28.2890 - val_mae: 3.7560\n",
      "Epoch 36/100\n",
      "404/404 [==============================] - 1s 1ms/step - loss: 22.1035 - mae: 3.3885 - val_loss: 26.1971 - val_mae: 3.6248\n",
      "Epoch 37/100\n",
      "404/404 [==============================] - 1s 1ms/step - loss: 22.5204 - mae: 3.4043 - val_loss: 27.0612 - val_mae: 3.7409\n",
      "Epoch 38/100\n",
      "404/404 [==============================] - 1s 1ms/step - loss: 22.7545 - mae: 3.3919 - val_loss: 28.5209 - val_mae: 3.9587\n",
      "Epoch 39/100\n",
      "404/404 [==============================] - 1s 1ms/step - loss: 22.9349 - mae: 3.4351 - val_loss: 33.4000 - val_mae: 4.0679\n",
      "Epoch 40/100\n",
      "404/404 [==============================] - 1s 1ms/step - loss: 22.1611 - mae: 3.3377 - val_loss: 26.1196 - val_mae: 3.7563\n",
      "Epoch 41/100\n",
      "404/404 [==============================] - 1s 2ms/step - loss: 22.1424 - mae: 3.3781 - val_loss: 28.5494 - val_mae: 3.9885\n",
      "Epoch 42/100\n",
      "404/404 [==============================] - 1s 1ms/step - loss: 20.0180 - mae: 3.2586 - val_loss: 35.0133 - val_mae: 4.1418\n",
      "Epoch 43/100\n",
      "404/404 [==============================] - 1s 1ms/step - loss: 21.0363 - mae: 3.3033 - val_loss: 26.6642 - val_mae: 3.6229\n",
      "Epoch 44/100\n",
      "404/404 [==============================] - 1s 1ms/step - loss: 18.9310 - mae: 3.1348 - val_loss: 33.7952 - val_mae: 4.0780\n",
      "Epoch 45/100\n",
      "404/404 [==============================] - 1s 1ms/step - loss: 21.2052 - mae: 3.2507 - val_loss: 25.8627 - val_mae: 3.5960\n",
      "Epoch 46/100\n",
      "404/404 [==============================] - 1s 1ms/step - loss: 20.2161 - mae: 3.2008 - val_loss: 46.5943 - val_mae: 4.8726\n",
      "Epoch 47/100\n",
      "404/404 [==============================] - 1s 1ms/step - loss: 19.5606 - mae: 3.1785 - val_loss: 34.6465 - val_mae: 4.1786\n",
      "Epoch 48/100\n",
      "404/404 [==============================] - 1s 1ms/step - loss: 19.9212 - mae: 3.2377 - val_loss: 29.4799 - val_mae: 3.8839\n",
      "Epoch 49/100\n",
      "404/404 [==============================] - 1s 2ms/step - loss: 18.8527 - mae: 3.0957 - val_loss: 31.1628 - val_mae: 3.8785\n",
      "Epoch 50/100\n",
      "404/404 [==============================] - 1s 2ms/step - loss: 19.4934 - mae: 3.1970 - val_loss: 25.3970 - val_mae: 3.6224\n",
      "Epoch 51/100\n",
      "404/404 [==============================] - 1s 1ms/step - loss: 18.7324 - mae: 3.0731 - val_loss: 25.6931 - val_mae: 3.5278\n",
      "Epoch 52/100\n",
      "404/404 [==============================] - 1s 1ms/step - loss: 19.7317 - mae: 3.1657 - val_loss: 36.0468 - val_mae: 4.3379\n",
      "Epoch 53/100\n",
      "404/404 [==============================] - 1s 1ms/step - loss: 18.4869 - mae: 3.1012 - val_loss: 38.7007 - val_mae: 4.3346\n",
      "Epoch 54/100\n",
      "404/404 [==============================] - 1s 2ms/step - loss: 18.6475 - mae: 3.0652 - val_loss: 31.2450 - val_mae: 3.9541\n",
      "Epoch 55/100\n",
      "404/404 [==============================] - 1s 2ms/step - loss: 17.8740 - mae: 3.0388 - val_loss: 32.6530 - val_mae: 3.9590\n",
      "Epoch 56/100\n",
      "404/404 [==============================] - 1s 1ms/step - loss: 18.9835 - mae: 3.1337 - val_loss: 28.7461 - val_mae: 3.7940\n",
      "Epoch 57/100\n",
      "404/404 [==============================] - 1s 1ms/step - loss: 18.4583 - mae: 2.9929 - val_loss: 28.7384 - val_mae: 3.7303\n",
      "Epoch 58/100\n",
      "404/404 [==============================] - 1s 2ms/step - loss: 19.6682 - mae: 3.1614 - val_loss: 45.8666 - val_mae: 4.7636\n",
      "Epoch 59/100\n",
      "404/404 [==============================] - 1s 1ms/step - loss: 20.0519 - mae: 3.1136 - val_loss: 27.1133 - val_mae: 3.5621\n",
      "Epoch 60/100\n",
      "404/404 [==============================] - 1s 2ms/step - loss: 18.5459 - mae: 3.0848 - val_loss: 33.7404 - val_mae: 3.9339\n",
      "Epoch 61/100\n",
      "404/404 [==============================] - 1s 2ms/step - loss: 17.9223 - mae: 3.0233 - val_loss: 29.6920 - val_mae: 3.8336\n",
      "Epoch 62/100\n",
      "404/404 [==============================] - 1s 2ms/step - loss: 18.9988 - mae: 3.1303 - val_loss: 31.4297 - val_mae: 3.8331\n",
      "Epoch 63/100\n",
      "404/404 [==============================] - 1s 2ms/step - loss: 17.1748 - mae: 3.0131 - val_loss: 35.7011 - val_mae: 4.1787\n",
      "Epoch 64/100\n",
      "404/404 [==============================] - 1s 1ms/step - loss: 17.0506 - mae: 2.9737 - val_loss: 33.2090 - val_mae: 3.8907\n",
      "Epoch 65/100\n",
      "404/404 [==============================] - 1s 2ms/step - loss: 16.7904 - mae: 3.0190 - val_loss: 58.6973 - val_mae: 5.6291\n",
      "Epoch 66/100\n",
      "404/404 [==============================] - 1s 1ms/step - loss: 16.4900 - mae: 2.9375 - val_loss: 36.7059 - val_mae: 4.2501\n",
      "Epoch 67/100\n",
      "404/404 [==============================] - 1s 1ms/step - loss: 17.4324 - mae: 3.0166 - val_loss: 28.6197 - val_mae: 3.6022\n",
      "Epoch 68/100\n",
      "404/404 [==============================] - 1s 1ms/step - loss: 17.6975 - mae: 2.9511 - val_loss: 36.6659 - val_mae: 4.2836\n",
      "Epoch 69/100\n",
      "404/404 [==============================] - 1s 1ms/step - loss: 17.5355 - mae: 3.0144 - val_loss: 29.3080 - val_mae: 3.6779\n",
      "Epoch 70/100\n",
      "404/404 [==============================] - 1s 1ms/step - loss: 19.0126 - mae: 3.0117 - val_loss: 29.3266 - val_mae: 3.6879\n",
      "Epoch 71/100\n",
      "404/404 [==============================] - 1s 2ms/step - loss: 17.6309 - mae: 2.9732 - val_loss: 36.7502 - val_mae: 4.3166\n",
      "Epoch 72/100\n",
      "404/404 [==============================] - 1s 1ms/step - loss: 18.3241 - mae: 3.0000 - val_loss: 29.9674 - val_mae: 3.6393\n",
      "Epoch 73/100\n",
      "404/404 [==============================] - 1s 1ms/step - loss: 17.8786 - mae: 3.0071 - val_loss: 30.6585 - val_mae: 3.7507\n",
      "Epoch 74/100\n",
      "404/404 [==============================] - 1s 2ms/step - loss: 16.9793 - mae: 2.9417 - val_loss: 36.9847 - val_mae: 4.0955\n",
      "Epoch 75/100\n",
      "404/404 [==============================] - 1s 2ms/step - loss: 18.1837 - mae: 2.9586 - val_loss: 32.7283 - val_mae: 3.9413\n",
      "Epoch 76/100\n",
      "404/404 [==============================] - 1s 1ms/step - loss: 17.6742 - mae: 2.9615 - val_loss: 30.1568 - val_mae: 3.7111\n",
      "Epoch 77/100\n",
      "404/404 [==============================] - 1s 1ms/step - loss: 17.8499 - mae: 2.9791 - val_loss: 27.6115 - val_mae: 3.5198\n",
      "Epoch 78/100\n",
      "404/404 [==============================] - 1s 1ms/step - loss: 17.7418 - mae: 3.0020 - val_loss: 26.7240 - val_mae: 3.4763\n",
      "Epoch 79/100\n",
      "404/404 [==============================] - 1s 1ms/step - loss: 17.7031 - mae: 2.9628 - val_loss: 28.0956 - val_mae: 3.5592\n",
      "Epoch 80/100\n",
      "404/404 [==============================] - 1s 1ms/step - loss: 17.2714 - mae: 2.9844 - val_loss: 26.5457 - val_mae: 3.4207\n",
      "Epoch 81/100\n",
      "404/404 [==============================] - 1s 1ms/step - loss: 17.4424 - mae: 2.9526 - val_loss: 28.8612 - val_mae: 3.9347\n",
      "Epoch 82/100\n",
      "404/404 [==============================] - 1s 1ms/step - loss: 17.7546 - mae: 2.9898 - val_loss: 28.4302 - val_mae: 3.5877\n",
      "Epoch 83/100\n",
      "404/404 [==============================] - 1s 2ms/step - loss: 18.3042 - mae: 2.9881 - val_loss: 27.6934 - val_mae: 3.5093\n",
      "Epoch 84/100\n",
      "404/404 [==============================] - 1s 1ms/step - loss: 17.2143 - mae: 2.9320 - val_loss: 30.3742 - val_mae: 3.6113\n",
      "Epoch 85/100\n",
      "404/404 [==============================] - 1s 2ms/step - loss: 16.6202 - mae: 2.9040 - val_loss: 42.7172 - val_mae: 4.7460\n",
      "Epoch 86/100\n",
      "404/404 [==============================] - 1s 2ms/step - loss: 17.0712 - mae: 2.8169 - val_loss: 33.9714 - val_mae: 3.9516\n",
      "Epoch 87/100\n",
      "404/404 [==============================] - 1s 1ms/step - loss: 17.6051 - mae: 2.8599 - val_loss: 29.7975 - val_mae: 3.6024\n",
      "Epoch 88/100\n",
      "404/404 [==============================] - 1s 1ms/step - loss: 18.0827 - mae: 2.9393 - val_loss: 32.2541 - val_mae: 4.0988\n",
      "Epoch 89/100\n",
      "404/404 [==============================] - 1s 1ms/step - loss: 15.8961 - mae: 2.8998 - val_loss: 32.7988 - val_mae: 3.7415\n",
      "Epoch 90/100\n",
      "404/404 [==============================] - 1s 2ms/step - loss: 15.5178 - mae: 2.8058 - val_loss: 30.1799 - val_mae: 3.7903\n",
      "Epoch 91/100\n",
      "404/404 [==============================] - 1s 2ms/step - loss: 17.3777 - mae: 2.9212 - val_loss: 30.4664 - val_mae: 3.7227\n",
      "Epoch 92/100\n",
      "404/404 [==============================] - 1s 2ms/step - loss: 15.0275 - mae: 2.8401 - val_loss: 35.6691 - val_mae: 4.0176\n",
      "Epoch 93/100\n",
      "404/404 [==============================] - 1s 2ms/step - loss: 17.8824 - mae: 2.9824 - val_loss: 27.5377 - val_mae: 3.5201\n",
      "Epoch 94/100\n",
      "404/404 [==============================] - 1s 2ms/step - loss: 16.2063 - mae: 2.8625 - val_loss: 39.3892 - val_mae: 4.3707\n",
      "Epoch 95/100\n",
      "404/404 [==============================] - 1s 1ms/step - loss: 16.3633 - mae: 2.9001 - val_loss: 28.4132 - val_mae: 3.5985\n",
      "Epoch 96/100\n",
      "404/404 [==============================] - 1s 2ms/step - loss: 14.9522 - mae: 2.7382 - val_loss: 30.5447 - val_mae: 3.7316\n",
      "Epoch 97/100\n",
      "404/404 [==============================] - 1s 1ms/step - loss: 15.8247 - mae: 2.8955 - val_loss: 28.1593 - val_mae: 3.5036\n",
      "Epoch 98/100\n",
      "404/404 [==============================] - 1s 1ms/step - loss: 16.5451 - mae: 2.9053 - val_loss: 33.4981 - val_mae: 3.7228\n",
      "Epoch 99/100\n",
      "404/404 [==============================] - 1s 1ms/step - loss: 15.7355 - mae: 2.8363 - val_loss: 29.6554 - val_mae: 3.6473\n",
      "Epoch 100/100\n",
      "404/404 [==============================] - 1s 2ms/step - loss: 16.2650 - mae: 2.8500 - val_loss: 32.4002 - val_mae: 3.6375\n"
     ]
    },
    {
     "data": {
      "text/plain": [
       "<keras.callbacks.History at 0x23fb81a79a0>"
      ]
     },
     "execution_count": 28,
     "metadata": {},
     "output_type": "execute_result"
    }
   ],
   "source": [
    "model = H_P_model()\n",
    "model.fit(x = train_x, y = train_y, epochs = num_epochs, batch_size =1, verbose = 1, validation_data = (test_x, test_y) )"
   ]
  },
  {
   "cell_type": "code",
   "execution_count": 29,
   "id": "fadb3479",
   "metadata": {},
   "outputs": [],
   "source": [
    "from sklearn.metrics import mean_squared_error, confusion_matrix, accuracy_score\n"
   ]
  },
  {
   "cell_type": "code",
   "execution_count": 30,
   "id": "e65bb50c",
   "metadata": {},
   "outputs": [
    {
     "name": "stdout",
     "output_type": "stream",
     "text": [
      "4/4 [==============================] - 0s 2ms/step\n"
     ]
    }
   ],
   "source": [
    "y_pred = model.predict(test_x).flatten()"
   ]
  },
  {
   "cell_type": "code",
   "execution_count": 31,
   "id": "6ef2fb8e",
   "metadata": {},
   "outputs": [
    {
     "name": "stdout",
     "output_type": "stream",
     "text": [
      "Mean Squared Error (MSE): 32.400195922632655\n"
     ]
    }
   ],
   "source": [
    "# Calculate Mean Squared Error (MSE)\n",
    "mse = mean_squared_error(test_y, y_pred)\n",
    "print(\"Mean Squared Error (MSE):\", mse)"
   ]
  },
  {
   "cell_type": "code",
   "execution_count": 32,
   "id": "ebdf44f0",
   "metadata": {},
   "outputs": [],
   "source": [
    "# Convert predictions to binary values (0 or 1) for classification\n",
    "binary_pred = np.where(y_pred >= np.mean(y_pred), 1, 0)\n",
    "binary_test = np.where(test_y >= np.mean(test_y), 1, 0)"
   ]
  },
  {
   "cell_type": "code",
   "execution_count": 33,
   "id": "fa6bfd12",
   "metadata": {},
   "outputs": [
    {
     "name": "stdout",
     "output_type": "stream",
     "text": [
      "Confusion Matrix:\n",
      "[[52  6]\n",
      " [12 32]]\n"
     ]
    }
   ],
   "source": [
    "# Calculate Confusion Matrix\n",
    "cm = confusion_matrix(binary_test, binary_pred)\n",
    "print(\"Confusion Matrix:\")\n",
    "print(cm)"
   ]
  },
  {
   "cell_type": "code",
   "execution_count": 34,
   "id": "03f3f962",
   "metadata": {},
   "outputs": [
    {
     "name": "stdout",
     "output_type": "stream",
     "text": [
      "Accuracy: 0.8235294117647058\n"
     ]
    }
   ],
   "source": [
    "# Calculate Accuracy\n",
    "accuracy = accuracy_score(binary_test, binary_pred)\n",
    "print(\"Accuracy:\", accuracy)"
   ]
  },
  {
   "cell_type": "code",
   "execution_count": null,
   "id": "e26980ea",
   "metadata": {},
   "outputs": [],
   "source": []
  }
 ],
 "metadata": {
  "kernelspec": {
   "display_name": "Python 3 (ipykernel)",
   "language": "python",
   "name": "python3"
  },
  "language_info": {
   "codemirror_mode": {
    "name": "ipython",
    "version": 3
   },
   "file_extension": ".py",
   "mimetype": "text/x-python",
   "name": "python",
   "nbconvert_exporter": "python",
   "pygments_lexer": "ipython3",
   "version": "3.9.7"
  }
 },
 "nbformat": 4,
 "nbformat_minor": 5
}
